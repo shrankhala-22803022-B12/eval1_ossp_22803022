{
 "cells": [
  {
   "cell_type": "code",
   "execution_count": 48,
   "metadata": {},
   "outputs": [
    {
     "name": "stdout",
     "output_type": "stream",
     "text": [
      "Employee Alice Johnson added successfully.\n",
      "Employee Bob Smith added successfully.\n",
      "Employee ID 2 already exists.\n",
      "Employee ID 2 updated successfully.\n",
      "Employee ID: 1\n",
      "Name: Alice Johnson\n",
      "Department: Engineering\n",
      "Salary: $75000.00\n",
      "\n",
      "Department: Engineering\n"
     ]
    },
    {
     "ename": "NameError",
     "evalue": "name 'emp_id' is not defined",
     "output_type": "error",
     "traceback": [
      "\u001b[1;31m---------------------------------------------------------------------------\u001b[0m",
      "\u001b[1;31mNameError\u001b[0m                                 Traceback (most recent call last)",
      "\u001b[1;32m<ipython-input-48-4918b46366bb>\u001b[0m in \u001b[0;36m<module>\u001b[1;34m\u001b[0m\n\u001b[0;32m     75\u001b[0m \u001b[1;33m\u001b[0m\u001b[0m\n\u001b[0;32m     76\u001b[0m \u001b[1;33m\u001b[0m\u001b[0m\n\u001b[1;32m---> 77\u001b[1;33m \u001b[0mdirectory\u001b[0m\u001b[1;33m.\u001b[0m\u001b[0mgenerate_dept_report\u001b[0m\u001b[1;33m(\u001b[0m\u001b[1;33m)\u001b[0m\u001b[1;33m\u001b[0m\u001b[1;33m\u001b[0m\u001b[0m\n\u001b[0m\u001b[0;32m     78\u001b[0m \u001b[1;33m\u001b[0m\u001b[0m\n\u001b[0;32m     79\u001b[0m \u001b[1;33m\u001b[0m\u001b[0m\n",
      "\u001b[1;32m<ipython-input-48-4918b46366bb>\u001b[0m in \u001b[0;36mgenerate_dept_report\u001b[1;34m(self)\u001b[0m\n\u001b[0;32m     48\u001b[0m             \u001b[0mprint\u001b[0m\u001b[1;33m(\u001b[0m\u001b[1;34mf\"\\nDepartment: {dept}\"\u001b[0m\u001b[1;33m)\u001b[0m\u001b[1;33m\u001b[0m\u001b[1;33m\u001b[0m\u001b[0m\n\u001b[0;32m     49\u001b[0m             \u001b[1;32mfor\u001b[0m \u001b[0memp\u001b[0m \u001b[1;32min\u001b[0m \u001b[0memployees\u001b[0m\u001b[1;33m:\u001b[0m\u001b[1;33m\u001b[0m\u001b[1;33m\u001b[0m\u001b[0m\n\u001b[1;32m---> 50\u001b[1;33m                 \u001b[0mprint\u001b[0m\u001b[1;33m(\u001b[0m\u001b[1;34mf\"Name: {emp['name']}, ID: {emp_id}, Salary: ${emp['salary']:.2f}\"\u001b[0m\u001b[1;33m)\u001b[0m\u001b[1;33m\u001b[0m\u001b[1;33m\u001b[0m\u001b[0m\n\u001b[0m\u001b[0;32m     51\u001b[0m \u001b[1;33m\u001b[0m\u001b[0m\n\u001b[0;32m     52\u001b[0m     \u001b[1;32mdef\u001b[0m \u001b[0mdisplay_all_employees\u001b[0m\u001b[1;33m(\u001b[0m\u001b[0mself\u001b[0m\u001b[1;33m)\u001b[0m\u001b[1;33m:\u001b[0m\u001b[1;33m\u001b[0m\u001b[1;33m\u001b[0m\u001b[0m\n",
      "\u001b[1;31mNameError\u001b[0m: name 'emp_id' is not defined"
     ]
    }
   ],
   "source": [
    "class EmployeeDirectory:\n",
    "    def __init__(self):\n",
    "        \n",
    "        self.employees = {}\n",
    "\n",
    "    def add_employee(self, emp_id, name, dept, salary):\n",
    "        if emp_id in self.employees:\n",
    "            print(f\"Employee ID {emp_id} already exists.\")\n",
    "        else:\n",
    "            self.employees[emp_id] = {\n",
    "                'name': name,\n",
    "                'department': dept,\n",
    "                'salary': salary\n",
    "            }\n",
    "            print(f\"Employee {name} added successfully.\")\n",
    "\n",
    "    def update_employee(self, emp_id, name=None, dept=None, salary=None):\n",
    "        if emp_id not in self.employees:\n",
    "            print(f\"Employee ID {emp_id} does not exist.\")\n",
    "        else:\n",
    "            if name:\n",
    "                self.employees[emp_id]['name'] = name\n",
    "            if dept:\n",
    "                self.employees[emp_id]['department'] = dept\n",
    "            if salary:\n",
    "                self.employees[emp_id]['salary'] = salary\n",
    "            print(f\"Employee ID {emp_id} updated successfully.\")\n",
    "\n",
    "    def search_employee(self, emp_id):\n",
    "        if emp_id in self.employees:\n",
    "            emp = self.employees[emp_id]\n",
    "            print(f\"Employee ID: {emp_id}\")\n",
    "            print(f\"Name: {emp['name']}\")\n",
    "            print(f\"Department: {emp['department']}\")\n",
    "            print(f\"Salary: ${emp['salary']:.2f}\")\n",
    "        else:\n",
    "            print(f\"Employee ID {emp_id} not found.\")\n",
    "\n",
    "    def generate_dept_report(self):\n",
    "        dept_report = {}\n",
    "        for emp in self.employees.values():\n",
    "            dept = emp['department']\n",
    "            if dept not in dept_report:\n",
    "                dept_report[dept] = []\n",
    "            dept_report[dept].append(emp)\n",
    "        \n",
    "        for dept, employees in dept_report.items():\n",
    "            print(f\"\\nDepartment: {dept}\")\n",
    "            for emp in employees:\n",
    "                print(f\"Name: {emp['name']}, ID: {emp_id}, Salary: ${emp['salary']:.2f}\")\n",
    "    \n",
    "    def display_all_employees(self):\n",
    "        if not self.employees:\n",
    "            print(\"No employees in the directory.\")\n",
    "        else:\n",
    "            for emp_id, emp in self.employees.items():\n",
    "                print(f\"\\nEmployee ID: {emp_id}\")\n",
    "                print(f\"Name: {emp['name']}\")\n",
    "                print(f\"Department: {emp['department']}\")\n",
    "                print(f\"Salary: ${emp['salary']:.2f}\")\n",
    "\n",
    "\n",
    "directory = EmployeeDirectory()\n",
    "\n",
    "\n",
    "directory.add_employee(1, \"Alice Johnson\", \"Engineering\", 75000)\n",
    "directory.add_employee(2, \"Bob Smith\", \"Marketing\", 62000)\n",
    "directory.add_employee(2, \"Carol White\", \"Engineering\", 80000)\n",
    "\n",
    "\n",
    "directory.update_employee(2, salary=64000)\n",
    "\n",
    "\n",
    "directory.search_employee(1)\n",
    "\n",
    "\n",
    "directory.generate_dept_report()\n",
    "\n",
    "\n",
    "directory.display_all_employees()\n"
   ]
  },
  {
   "cell_type": "code",
   "execution_count": null,
   "metadata": {},
   "outputs": [],
   "source": []
  }
 ],
 "metadata": {
  "kernelspec": {
   "display_name": "Python 3",
   "language": "python",
   "name": "python3"
  },
  "language_info": {
   "codemirror_mode": {
    "name": "ipython",
    "version": 3
   },
   "file_extension": ".py",
   "mimetype": "text/x-python",
   "name": "python",
   "nbconvert_exporter": "python",
   "pygments_lexer": "ipython3",
   "version": "3.7.3"
  }
 },
 "nbformat": 4,
 "nbformat_minor": 2
}
